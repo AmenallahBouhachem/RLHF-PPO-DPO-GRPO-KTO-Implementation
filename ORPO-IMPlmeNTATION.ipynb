{
 "cells": [
  {
   "cell_type": "code",
   "execution_count": null,
   "id": "6420aa43",
   "metadata": {},
   "outputs": [],
   "source": [
    "# train_orpo.py\n",
    "from datasets import load_dataset\n",
    "from trl import ORPOConfig, ORPOTrainer\n",
    "from transformers import AutoModelForCausalLM, AutoTokenizer\n",
    "\n",
    "model = AutoModelForCausalLM.from_pretrained(\"Qwen/Qwen2-0.5B-Instruct\")\n",
    "tokenizer = AutoTokenizer.from_pretrained(\"Qwen/Qwen2-0.5B-Instruct\")\n",
    "train_dataset = load_dataset(\"trl-lib/ultrafeedback_binarized\", split=\"train\")\n",
    "\n",
    "training_args = ORPOConfig(output_dir=\"Qwen2-0.5B-ORPO\", logging_steps=10)\n",
    "trainer = ORPOTrainer(model=model, args=training_args, processing_class=tokenizer, train_dataset=train_dataset)\n",
    "trainer.train()"
   ]
  }
 ],
 "metadata": {
  "kernelspec": {
   "display_name": "Python 3",
   "language": "python",
   "name": "python3"
  },
  "language_info": {
   "name": "python",
   "version": "3.12.10"
  }
 },
 "nbformat": 4,
 "nbformat_minor": 5
}
