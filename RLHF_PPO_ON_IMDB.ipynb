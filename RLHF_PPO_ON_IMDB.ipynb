{
  "cells": [
    {
      "cell_type": "code",
      "execution_count": null,
      "metadata": {
        "id": "z8-UdiopGFZi"
      },
      "outputs": [],
      "source": [
        "!pip install -q transformers huggingface_hub datasets trl tqdm torch"
      ]
    },
    {
      "cell_type": "code",
      "execution_count": 2,
      "metadata": {
        "id": "68VFQ_YjIgvn"
      },
      "outputs": [],
      "source": [
        "import torch\n",
        "from tqdm import tqdm\n",
        "from transformers import pipeline, AutoTokenizer,AutoModelForSequenceClassification\n",
        "from datasets import load_dataset\n",
        "from trl import PPOTrainer, PPOConfig, AutoModelForCausalLMWithValueHead\n",
        "from trl.core import LengthSampler\n",
        "from huggingface_hub import interpreter_login"
      ]
    },
    {
      "cell_type": "code",
      "execution_count": 3,
      "metadata": {
        "colab": {
          "base_uri": "https://localhost:8080/"
        },
        "id": "QFcmxaUzSJd5",
        "outputId": "01f6e75f-df85-4e1c-a586-fdeb340285c0"
      },
      "outputs": [
        {
          "name": "stdout",
          "output_type": "stream",
          "text": [
            "\n",
            "    _|    _|  _|    _|    _|_|_|    _|_|_|  _|_|_|  _|      _|    _|_|_|      _|_|_|_|    _|_|      _|_|_|  _|_|_|_|\n",
            "    _|    _|  _|    _|  _|        _|          _|    _|_|    _|  _|            _|        _|    _|  _|        _|\n",
            "    _|_|_|_|  _|    _|  _|  _|_|  _|  _|_|    _|    _|  _|  _|  _|  _|_|      _|_|_|    _|_|_|_|  _|        _|_|_|\n",
            "    _|    _|  _|    _|  _|    _|  _|    _|    _|    _|    _|_|  _|    _|      _|        _|    _|  _|        _|\n",
            "    _|    _|    _|_|      _|_|_|    _|_|_|  _|_|_|  _|      _|    _|_|_|      _|        _|    _|    _|_|_|  _|_|_|_|\n",
            "\n"
          ]
        },
        {
          "name": "stderr",
          "output_type": "stream",
          "text": [
            "/usr/local/lib/python3.11/dist-packages/huggingface_hub/utils/_auth.py:94: UserWarning: \n",
            "The secret `HF_TOKEN` does not exist in your Colab secrets.\n",
            "To authenticate with the Hugging Face Hub, create a token in your settings tab (https://huggingface.co/settings/tokens), set it as secret in your Google Colab and restart your session.\n",
            "You will be able to reuse this secret in all of your notebooks.\n",
            "Please note that authentication is recommended but still optional to access public models or datasets.\n",
            "  warnings.warn(\n"
          ]
        },
        {
          "name": "stdout",
          "output_type": "stream",
          "text": [
            "Enter your token (input will not be visible): ··········\n",
            "Add token as git credential? (Y/n) n\n"
          ]
        }
      ],
      "source": [
        "interpreter_login()"
      ]
    },
    {
      "cell_type": "code",
      "execution_count": 4,
      "metadata": {
        "id": "Wef5upoBOpDG"
      },
      "outputs": [],
      "source": [
        "def data_prep(settings,model_name=\"lvwerra/gpt2-imdb\", data=\"stanfordnlp/imdb\", text_min_length=2, text_max_length=8,max_rows=1000):\n",
        "\n",
        "  tokenizer = AutoTokenizer.from_pretrained(model_name)\n",
        "  tokenizer.pad_token = tokenizer.eos_token\n",
        "\n",
        "  ds = load_dataset(data, split=\"train\")\n",
        "  ds = ds.rename_columns({\"text\": \"review\"})\n",
        "\n",
        "  ds = ds.filter(lambda item: len(item[\"review\"]) > 200, batched=False)\n",
        "  ds = ds.select(range(max_rows))\n",
        "  segment_size = LengthSampler(text_min_length, text_max_length)\n",
        "\n",
        "  def tokenize_fn(example):\n",
        "      ids = tokenizer.encode(example[\"review\"])\n",
        "      cut = segment_size()\n",
        "      example[\"input_ids\"] = ids[:cut]\n",
        "      example[\"query\"] = tokenizer.decode(ids[:cut])\n",
        "      return example\n",
        "  ds = ds.map(tokenize_fn, batched=False, remove_columns=[\"review\"])\n",
        "  return ds\n",
        "\n",
        "def batch_collator(entries):\n",
        "    return {k: [e[k] for e in entries] for k in entries[0]}\n"
      ]
    },
    {
      "cell_type": "code",
      "execution_count": 5,
      "metadata": {
        "id": "O5nlD2uoLT-v"
      },
      "outputs": [],
      "source": [
        "settings = PPOConfig(\n",
        "    learning_rate = 1.5e-5,\n",
        "\n",
        ")"
      ]
    },
    {
      "cell_type": "code",
      "execution_count": null,
      "metadata": {
        "id": "pUX5rNral7-o"
      },
      "outputs": [],
      "source": [
        "dataset = data_prep(settings)\n",
        "model_name = \"lvwerra/gpt2-imdb\"\n",
        "model = AutoModelForCausalLMWithValueHead.from_pretrained(model_name)\n",
        "frozen_model = AutoModelForCausalLMWithValueHead.from_pretrained(model_name)\n",
        "\n",
        "tokenizer = AutoTokenizer.from_pretrained(model_name)\n",
        "tokenizer.pad_token = tokenizer.eos_token\n",
        "\n",
        "reward_model = AutoModelForSequenceClassification.from_pretrained(\"lvwerra/distilbert-imdb\")\n",
        "\n",
        "ppo_trainer = PPOTrainer(args=settings, processing_class=tokenizer, model=model, ref_model=frozen_model,reward_model=reward_model,value_model=model,  train_dataset=dataset, data_collator=batch_collator)\n",
        "\n",
        "device = ppo_trainer.accelerator.device\n",
        "if ppo_trainer.accelerator.num_processes == 1:\n",
        "        device = 0 if torch.cuda.is_available() else \"cpu\" \n",
        "\n",
        "sentiment_pipe = pipeline(\"sentiment-analysis\", model=\"lvwerra/distilbert-imdb\", device=device)\n",
        "\n",
        "\n",
        "sent_kwargs = {\"return_all_scores\": True, \"function_to_apply\": \"none\", \"batch_size\": 16}"
      ]
    },
    {
      "cell_type": "code",
      "execution_count": null,
      "metadata": {
        "id": "j6lJvVPol9Fl"
      },
      "outputs": [],
      "source": [
        "text = \"this movie was really bad!!\"\n",
        "print(sentiment_pipe(text, **sent_kwargs))"
      ]
    },
    {
      "cell_type": "code",
      "execution_count": null,
      "metadata": {
        "id": "CGhSHUw1mAul"
      },
      "outputs": [],
      "source": [
        "text = \"this movie was really good!!\"\n",
        "print(sentiment_pipe(text, **sent_kwargs))"
      ]
    },
    {
      "cell_type": "code",
      "execution_count": null,
      "metadata": {
        "id": "5P0i7-9EmWhF"
      },
      "outputs": [],
      "source": [
        "ppo_trainer.train()\n"
      ]
    },
    {
      "cell_type": "code",
      "execution_count": null,
      "metadata": {
        "id": "HE_Y4pFXmXXf"
      },
      "outputs": [],
      "source": [
        "ppo_trainer.save_pretrained(\"aligned-gpt2-imdb\")\n"
      ]
    },
    {
      "cell_type": "code",
      "execution_count": null,
      "metadata": {
        "id": "Wk5liuY5maIv"
      },
      "outputs": [],
      "source": [
        "from transformers import AutoModelForCausalLM\n",
        "\n",
        "tokenizer = AutoTokenizer.from_pretrained(\"aligned-gpt2-imdb\",push_to_hub=True)\n",
        "model= AutoModelForCausalLM.from_pretrained(\"aligned-gpt2-imdb\",push_to_hub=True)\n"
      ]
    },
    {
      "cell_type": "code",
      "execution_count": null,
      "metadata": {
        "id": "sDDSdhMymq-C"
      },
      "outputs": [],
      "source": [
        "inputs = tokenizer(\"The meaning of life is\", return_tensors=\"pt\")\n",
        "out    = model.generate(**inputs, max_new_tokens=20)\n",
        "print(tokenizer.decode(out[0], skip_special_tokens=True))"
      ]
    }
  ],
  "metadata": {
    "accelerator": "GPU",
    "colab": {
      "gpuType": "T4",
      "provenance": []
    },
    "kernelspec": {
      "display_name": "Python 3",
      "name": "python3"
    },
    "language_info": {
      "name": "python"
    }
  },
  "nbformat": 4,
  "nbformat_minor": 0
}
