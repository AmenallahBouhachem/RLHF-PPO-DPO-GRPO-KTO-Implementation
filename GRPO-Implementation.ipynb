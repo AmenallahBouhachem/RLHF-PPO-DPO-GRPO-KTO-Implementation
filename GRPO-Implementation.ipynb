{
 "cells": [
  {
   "cell_type": "code",
   "execution_count": null,
   "id": "661a25bd",
   "metadata": {},
   "outputs": [],
   "source": [
    "# train_grpo.py\n",
    "from datasets import load_dataset\n",
    "from trl import GRPOConfig, GRPOTrainer\n",
    "\n",
    "dataset = load_dataset(\"trl-lib/tldr\", split=\"train\")\n",
    "\n",
    "# Define the reward function, which rewards completions that are close to 20 characters\n",
    "def reward_len(completions, **kwargs):\n",
    "    return [-abs(20 - len(completion)) for completion in completions]\n",
    "\n",
    "training_args = GRPOConfig(output_dir=\"Qwen2-0.5B-GRPO\", logging_steps=10)\n",
    "trainer = GRPOTrainer(\n",
    "    model=\"Qwen/Qwen2-0.5B-Instruct\",\n",
    "    reward_funcs=reward_len,\n",
    "    args=training_args,\n",
    "    train_dataset=dataset,\n",
    ")\n",
    "trainer.train()"
   ]
  }
 ],
 "metadata": {
  "language_info": {
   "name": "python"
  }
 },
 "nbformat": 4,
 "nbformat_minor": 5
}
